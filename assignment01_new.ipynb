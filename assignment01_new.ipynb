{
 "cells": [
  {
   "cell_type": "code",
   "execution_count": 92,
   "metadata": {},
   "outputs": [],
   "source": [
    "import numpy as np\n",
    "import matplotlib.pyplot as plt\n",
    "np.set_printoptions(suppress = True)"
   ]
  },
  {
   "cell_type": "code",
   "execution_count": 26,
   "metadata": {},
   "outputs": [],
   "source": [
    "def save_results(array):\n",
    "    \n",
    "    textfile = \"convergence_plots.txt\"\n",
    "    \n",
    "    with open(textfile, 'a') as the_file:\n",
    "        the_file.write(str(array[0]))\n",
    "        for i in range(1, len(array)):\n",
    "            the_file.write(\",\" + str(array[i]))\n",
    "            \n",
    "        the_file.write('\\n')"
   ]
  },
  {
   "cell_type": "code",
   "execution_count": 94,
   "metadata": {},
   "outputs": [],
   "source": [
    "def plotting(steepest, newtons, quasi, cgm, title, range_y, range_x):\n",
    "\n",
    "    filepath = 'convergence_plots_f1.txt'  # TODO: add path to your data file here\n",
    "    names = [\"Steepest Descent\", \"Newton's Method\", \"Quasi-Newton's Method\", \"Conjugate Gradient Method\"]  # TODO: add the names of each sorting method in the order they are saved in the text file\n",
    "    \n",
    "    x_steepest = list(range(1, len(steepest), 1))  # this is the range of input sizes tested\n",
    "    x_newtons = list(range(1, len(newtons), 1))\n",
    "    x_quasi = list(range(1, len(quasi), 1))\n",
    "    x_cgm = list(range(1, len(cgm), 1))\n",
    "\n",
    "    plt.plot(x_steepest, steepest, label=\"steepest descent\")\n",
    "    plt.plot(x_newtons, steepest, label=\"Newtons Method\")\n",
    "    plt.plot(x_quasi, steepest, label=\"Quasi-Newtons Method\")\n",
    "    plt.plot(x_cgm, steepest, label=\"Conjugate Gradient Method\")\n",
    "\n",
    "    plt.xticks(range(0, range_x))\n",
    "    plt.yticks(range(0, range_y))\n",
    "    plt.xlabel('No. of Iterations')\n",
    "    plt.ylabel('convergence criteria')\n",
    "    plt.title(title)\n",
    "    plt.legend()\n",
    "    plt.savefig(\"sorting_f1.pdf\")\n",
    "    plt.show()"
   ]
  },
  {
   "cell_type": "markdown",
   "metadata": {},
   "source": [
    "## Test Functions"
   ]
  },
  {
   "cell_type": "code",
   "execution_count": 27,
   "metadata": {},
   "outputs": [],
   "source": [
    "def f1(x):\n",
    "    '''\n",
    "    input: x, array with 50 elements\n",
    "    returns: f1(x), a scalar\n",
    "    '''\n",
    "\n",
    "    sum = 0\n",
    "    for i in range(50):\n",
    "        sum+= (i+1) * x[i]**2\n",
    "    return sum\n",
    "\n",
    "def f2(x):\n",
    "    '''\n",
    "    input: x, array with 10 elements\n",
    "    returns: f2(x), a scalar\n",
    "    '''\n",
    "\n",
    "    sum = 0\n",
    "    for i in range(9):\n",
    "        sum+= (100 * (x[i+1] - x[i]**2)**2 + (1-x[i])**2)\n",
    "    return sum\n",
    "\n",
    "def f3(x):\n",
    "    '''\n",
    "    input: x, array with 2 elements\n",
    "    returns: f3(x), a scalar\n",
    "    '''\n",
    "\n",
    "    return (1.5 - x[0] + x[0] * x[1])**2 + (2.25 - x[0] + x[0]*x[1]**2)**2 + (2.625 - x[0] + x[0] * x[1] **3)**2"
   ]
  },
  {
   "cell_type": "markdown",
   "metadata": {},
   "source": [
    "## Gradients and Hessians of Test functions"
   ]
  },
  {
   "cell_type": "markdown",
   "metadata": {},
   "source": [
    "### 1)"
   ]
  },
  {
   "cell_type": "code",
   "execution_count": 28,
   "metadata": {},
   "outputs": [],
   "source": [
    "def nabla_f1(x):\n",
    "    \"\"\"\n",
    "    input: 1dim array of length 50\n",
    "    returns: 1dim array of length 50\n",
    "    \"\"\"\n",
    "\n",
    "    g = np.zeros(50)\n",
    "    for i in range(50):\n",
    "        g[i] = (i+1)*2*x[i]\n",
    "    # return np.matrix(g).T\n",
    "    return g\n",
    "\n",
    "def ColumnVector_nabla_f1(x):\n",
    "    return np.matrix(nabla_f1(x)).T\n",
    "\n",
    "def Hessian_f1(x):\n",
    "    \"\"\"\n",
    "    input: 1dim array of length 50\n",
    "    returns: 50*50 np.array\n",
    "    \"\"\"\n",
    "    \n",
    "    H = np.zeros((50,50))\n",
    "    for i in range(50):\n",
    "        H[i,i] = (i+1) * 2\n",
    "    return H"
   ]
  },
  {
   "cell_type": "markdown",
   "metadata": {},
   "source": [
    "### 2)"
   ]
  },
  {
   "cell_type": "code",
   "execution_count": 29,
   "metadata": {},
   "outputs": [],
   "source": [
    "def nabla_f2(x):\n",
    "    \"\"\"\n",
    "    input: 1dim array of length 10\n",
    "    returns: 1dim array of length 10\n",
    "    \"\"\"\n",
    "\n",
    "    g = np.zeros(10)\n",
    "    g[0] = -400 * x[0] * (x[1] - x[0]**2) - 2 * (1-x[0])\n",
    "    for i in range(1,9):\n",
    "        g[i] = -400 * x[i] * (x[i+1] - x[i]**2)-2*(1-x[i]) + 200 * (x[i] - x[i-1] **2)\n",
    "    g[9] = 200 * (x[9] - x[8]**2)\n",
    "    # return np.matrix(g).T\n",
    "    return g\n",
    "\n",
    "    \n",
    "def ColumnVector_nabla_f2(x):\n",
    "    return np.matrix(nabla_f2(x)).T\n",
    "\n",
    "def Hessian_f2(x):\n",
    "    \"\"\"\n",
    "    input: 1dim array of length 10\n",
    "    returns: 10*10 np.array\n",
    "    \"\"\"\n",
    "\n",
    "    H = np.zeros((10,10))\n",
    "    H[0,0] = -400* (x[1] - x[0]**2) + 800*x[0] **2 + 2\n",
    "    H[0,1] = -400*x[0]\n",
    "    for i in range(1,9):\n",
    "        H[i,i-1] = -400 * x[i-1]\n",
    "        H[i,i] = -400 * (x[i+1] - x[i] **2) + 800 * x[i] **2 + 202\n",
    "        H[i,i+1] = -400*x[i]\n",
    "    H[9,8] = -400 * x[8]\n",
    "    H[9,9] = 200\n",
    "    return H\n"
   ]
  },
  {
   "cell_type": "markdown",
   "metadata": {},
   "source": [
    "### 3)"
   ]
  },
  {
   "cell_type": "code",
   "execution_count": 5,
   "metadata": {},
   "outputs": [],
   "source": [
    "def nabla_f3(x):\n",
    "    \"\"\"\n",
    "    input: 1dim array of length 2\n",
    "    returns: 1dim array of length 2\n",
    "    \"\"\"\n",
    "\n",
    "    g = np.zeros(2)\n",
    "    g[0] = 2 * (x[1] - 1)*(1.5 - x[0] + x[0]*x[1]) + 2*(x[1]**2 - 1)*(2.25 - x[0] + x[0]*x[1]**2) + 2 * (x[1]**3 - 1)*(2.625 - x[0] + x[0]*x[1]**3)\n",
    "    g[1] = 2 * x[0] * (1.5 - x[0] + x[0]*x[1]) + 2*2*x[0]*x[1] * (2.25 - x[0] + x[0] * x[1]**2) + 2*3*x[0] * x[1]**2 * (2.625 - x[0] + x[0]*x[1]**3)\n",
    "    # return np.matrix(g).T\n",
    "    return g\n",
    "\n",
    "\n",
    "def ColumnVector_nabla_f3(x):\n",
    "    return np.matrix(nabla_f3(x)).T\n",
    "\n",
    "def Hessian_f3(x):\n",
    "    \"\"\"\n",
    "    input: 1dim array of length 10\n",
    "    returns: 10*10 np.array\n",
    "    \"\"\"\n",
    "\n",
    "    H = np.zeros((2,2))\n",
    "    H[0,0] = 2*(x[1] - 1)**2 + 2 * (x[1]**2 - 1)**2 + 2 * (x[1]**3 - 1)**2\n",
    "    H[0,1] = 4 * (x[1] - 1) + 8 * x[1] * (x[1]**2 - 1) + 12 * x[1]**2 * (x[1]**3 -1)\n",
    "    H[1,0] = H[0,1]\n",
    "    H[1,1] = 2 * x[0]**2 + 4 * x[0] * (2.25 - x[0] + x[0]*x[1]**2) + 8 * x[0]**2 * x[1]**2 + 12 * x[0]*x[1]*(2.625 - x[0] + x[0] * x[1]**3) + 12 * x[0]**2 * x[1]**4\n",
    "    return H\n",
    "\n"
   ]
  },
  {
   "cell_type": "markdown",
   "metadata": {},
   "source": [
    "# Methods"
   ]
  },
  {
   "cell_type": "markdown",
   "metadata": {},
   "source": [
    "## Steepest Descent Method"
   ]
  },
  {
   "cell_type": "markdown",
   "metadata": {},
   "source": [
    "### Functions"
   ]
  },
  {
   "cell_type": "code",
   "execution_count": 90,
   "metadata": {},
   "outputs": [],
   "source": [
    "def backtracking(c, p, s, x, d, f, nabla_f):\n",
    "    \"\"\" \n",
    "    Uses armijo condition\n",
    "    \"\"\"\n",
    "\n",
    "    fx = f(x)\n",
    "    nabla_fx = nabla_f(x)\n",
    "    while f(x + s*d) > fx + c * s * np.dot(nabla_fx,d):\n",
    "        s = p * s\n",
    "    return s\n",
    "\n",
    "\n",
    "def steepest_descent(f,nabla_f, x0, tol = 10**-8,max_iterations=500, s=1,c=0.1,p=0.5):\n",
    "    \"\"\" \n",
    "    input: f, nabla_f, x0 (horizontal array)\n",
    "    optional input: step size sBar (default =1), \n",
    "    returns: 1 dim array for x*\n",
    "    \"\"\"\n",
    "\n",
    "    convergence_array = []\n",
    "    x = x0\n",
    "    k=0\n",
    "\n",
    "    while k < max_iterations: #and np.linalg.norm(nabla_f(x))>tol:\n",
    "\n",
    "        convergence_array.append( round(np.linalg.norm(nabla_f(x))) )\n",
    "        d = - nabla_f(x)\n",
    "        s = backtracking(c, p, s, x, d, f , nabla_f)\n",
    "        x = x + s*d.T\n",
    "        k+=1\n",
    "    \n",
    "    save_results(convergence_array)\n",
    "    print(\"Number of iterations: \",k)\n",
    "    return x"
   ]
  },
  {
   "cell_type": "markdown",
   "metadata": {},
   "source": [
    "### Implementation"
   ]
  },
  {
   "cell_type": "markdown",
   "metadata": {},
   "source": [
    "#### 1)"
   ]
  },
  {
   "cell_type": "code",
   "execution_count": 52,
   "metadata": {},
   "outputs": [
    {
     "name": "stdout",
     "output_type": "stream",
     "text": [
      "[0.64991849 0.94730415 0.40060988 0.79093935 0.26987874 0.85652596\n",
      " 0.97795253 0.56360677 0.36217892 0.56188478 0.56708097 0.49833757\n",
      " 0.44707358 0.47926448 0.70944324 0.52162782 0.45640138 0.2804654\n",
      " 0.17693151 0.12423711 0.81573734 0.74676357 0.46845656 0.54139299\n",
      " 0.39402755 0.50830677 0.38505158 0.17802597 0.32257911 0.41140944\n",
      " 0.32529456 0.5757566  0.25297229 0.74784888 0.81488021 0.84921811\n",
      " 0.25237798 0.71367885 0.64963017 0.72463995 0.36619568 0.6114949\n",
      " 0.54708328 0.37376062 0.09252505 0.45648326 0.15942419 0.04807162\n",
      " 0.3177259  0.64037283]\n"
     ]
    }
   ],
   "source": [
    "# INPUT 1 \n",
    "\n",
    "input_1 = np.random.uniform(size = 50)\t\n",
    "print(input_1)"
   ]
  },
  {
   "cell_type": "code",
   "execution_count": 53,
   "metadata": {},
   "outputs": [
    {
     "name": "stdout",
     "output_type": "stream",
     "text": [
      "[0.79146055 0.17400109 0.82056397 0.81097525 0.72415685 0.74540807\n",
      " 0.14064937 0.64405846 0.92497878 0.89954681 0.58856655 0.34819265\n",
      " 0.60122683 0.36320353 0.64484212 0.25729907 0.69196579 0.64121698\n",
      " 0.09056063 0.40596577 0.67310771 0.79250071 0.89353835 0.64872363\n",
      " 0.63139162 0.82211607 0.24137624 0.15941148 0.86536332 0.09831182\n",
      " 0.74441768 0.44079244 0.72782903 0.38543755 0.10909229 0.03216482\n",
      " 0.84545341 0.98357649 0.19712631 0.20543625 0.80735861 0.98734296\n",
      " 0.89509462 0.87715116 0.47788729 0.99139054 0.34712672 0.64454511\n",
      " 0.45139616 0.30227373]\n"
     ]
    }
   ],
   "source": [
    "#INPUT 2 \n",
    "\n",
    "input_2 = np.random.uniform(size = 50)\t\n",
    "print(input_2)"
   ]
  },
  {
   "cell_type": "code",
   "execution_count": 54,
   "metadata": {},
   "outputs": [
    {
     "name": "stdout",
     "output_type": "stream",
     "text": [
      "[0.7713435  0.58443835 0.34540331 0.13153973 0.40762056 0.04764066\n",
      " 0.45745915 0.48409583 0.37103599 0.1780606  0.77897183 0.07937004\n",
      " 0.13853753 0.94705606 0.99458236 0.12550029 0.8860437  0.00163024\n",
      " 0.54888811 0.22321733 0.71452581 0.56408056 0.96479537 0.95053068\n",
      " 0.31147123 0.40181206 0.56309071 0.6353681  0.50176353 0.86975278\n",
      " 0.40008663 0.50550614 0.07360578 0.22679726 0.53587967 0.40939217\n",
      " 0.46712985 0.47385337 0.75713009 0.18565328 0.3951978  0.89117444\n",
      " 0.17288715 0.3727447  0.28249833 0.16669145 0.43032535 0.51641627\n",
      " 0.65578151 0.59861357]\n"
     ]
    }
   ],
   "source": [
    "# INPUT 3 \n",
    "\n",
    "input_3 = np.random.uniform(size = 50)\t\n",
    "print(input_3)"
   ]
  },
  {
   "cell_type": "code",
   "execution_count": 91,
   "metadata": {},
   "outputs": [
    {
     "name": "stdout",
     "output_type": "stream",
     "text": [
      "Number of iterations:  500\n"
     ]
    },
    {
     "data": {
      "text/plain": [
       "array([0.00000008, 0.        , 0.        , 0.        , 0.        ,\n",
       "       0.        , 0.        , 0.        , 0.        , 0.        ,\n",
       "       0.        , 0.        , 0.        , 0.        , 0.        ,\n",
       "       0.        , 0.        , 0.        , 0.        , 0.        ,\n",
       "       0.        , 0.        , 0.        , 0.        , 0.        ,\n",
       "       0.        , 0.        , 0.        , 0.        , 0.        ,\n",
       "       0.        , 0.        , 0.        , 0.        , 0.        ,\n",
       "       0.        , 0.        , 0.        , 0.        , 0.        ,\n",
       "       0.        , 0.        , 0.        , 0.        , 0.        ,\n",
       "       0.        , 0.        , 0.        , 0.        , 0.        ])"
      ]
     },
     "execution_count": 91,
     "metadata": {},
     "output_type": "execute_result"
    }
   ],
   "source": [
    "# FUNCTION 1 - INPUT 1 \n",
    "x1_star = steepest_descent(f1,nabla_f1,input_1)\n",
    "x1_star"
   ]
  },
  {
   "cell_type": "code",
   "execution_count": 25,
   "metadata": {},
   "outputs": [
    {
     "name": "stdout",
     "output_type": "stream",
     "text": [
      "Number of iterations:  10000\n"
     ]
    },
    {
     "data": {
      "text/plain": [
       "array([0., 0., 0., 0., 0., 0., 0., 0., 0., 0., 0., 0., 0., 0., 0., 0., 0.,\n",
       "       0., 0., 0., 0., 0., 0., 0., 0., 0., 0., 0., 0., 0., 0., 0., 0., 0.,\n",
       "       0., 0., 0., 0., 0., 0., 0., 0., 0., 0., 0., 0., 0., 0., 0., 0.])"
      ]
     },
     "execution_count": 25,
     "metadata": {},
     "output_type": "execute_result"
    }
   ],
   "source": [
    "# FUNCTION 1 - INPUT 2 \n",
    "\n",
    "steepest_descent(f1,nabla_f1,input_2)\n"
   ]
  },
  {
   "cell_type": "code",
   "execution_count": 12,
   "metadata": {},
   "outputs": [
    {
     "name": "stdout",
     "output_type": "stream",
     "text": [
      "Number of iterations:  595\n"
     ]
    },
    {
     "data": {
      "text/plain": [
       "array([ 0.,  0.,  0.,  0.,  0.,  0.,  0.,  0.,  0.,  0.,  0.,  0.,  0.,\n",
       "        0.,  0.,  0.,  0.,  0.,  0.,  0.,  0.,  0.,  0.,  0.,  0.,  0.,\n",
       "        0.,  0.,  0.,  0.,  0.,  0.,  0.,  0.,  0.,  0.,  0.,  0.,  0.,\n",
       "        0.,  0., -0., -0., -0., -0., -0., -0., -0., -0., -0.])"
      ]
     },
     "execution_count": 12,
     "metadata": {},
     "output_type": "execute_result"
    }
   ],
   "source": [
    "# FUNCTION 1 - INPUT 3 \n",
    "\n",
    "steepest_descent(f1,nabla_f1,input_3)"
   ]
  },
  {
   "cell_type": "markdown",
   "metadata": {},
   "source": [
    "#### 2)"
   ]
  },
  {
   "cell_type": "code",
   "execution_count": 13,
   "metadata": {},
   "outputs": [
    {
     "name": "stdout",
     "output_type": "stream",
     "text": [
      "input 4:  [0.35127283 0.37186885 0.9300881  0.70247436 0.09949951 0.53337057\n",
      " 0.82756137 0.86960003 0.88391303 0.18186935]\n",
      "input 5:  [0.41900177 0.83879152 0.31104149 0.86225089 0.14105708 0.70262058\n",
      " 0.29813697 0.05089885 0.06858934 0.50114148]\n",
      "input 6:  [0.72719132 0.61044171 0.59425032 0.7448641  0.53974224 0.83371677\n",
      " 0.4916519  0.11333723 0.54874944 0.31263002]\n"
     ]
    }
   ],
   "source": [
    "# INPUT 4,5,6\n",
    "\n",
    "input_4 = np.random.uniform(size = 10)\t\n",
    "print(\"input 4: \", input_4)\n",
    "input_5 = np.random.uniform(size = 10)\n",
    "print(\"input 5: \", input_5)\n",
    "input_6 = np.random.uniform(size = 10)\n",
    "print(\"input 6: \", input_6)\n"
   ]
  },
  {
   "cell_type": "code",
   "execution_count": 14,
   "metadata": {},
   "outputs": [
    {
     "name": "stdout",
     "output_type": "stream",
     "text": [
      "input 5.1:  [0.39450592 0.54547438 0.41732544 0.50910255 0.36642327 0.99191295\n",
      " 0.60738397 0.67442796 0.57184446 0.58682349]\n"
     ]
    }
   ],
   "source": [
    "input_5_1 = np.random.uniform(size = 10)\n",
    "print(\"input 5.1: \", input_5_1)"
   ]
  },
  {
   "cell_type": "code",
   "execution_count": 64,
   "metadata": {},
   "outputs": [
    {
     "name": "stdout",
     "output_type": "stream",
     "text": [
      "Number of iterations:  10000\n"
     ]
    },
    {
     "data": {
      "text/plain": [
       "array([0.99999048, 0.99998093, 0.99996177, 0.99992335, 0.99984633,\n",
       "       0.99969191, 0.99938238, 0.99876206, 0.99751945, 0.99503264])"
      ]
     },
     "execution_count": 64,
     "metadata": {},
     "output_type": "execute_result"
    }
   ],
   "source": [
    "# FUNCTION 2 - INPUT 4 \n",
    "\n",
    "steepest_descent(f2,nabla_f2,input_4,tol = 10**-10,max_iterations=10000)\n"
   ]
  },
  {
   "cell_type": "code",
   "execution_count": 16,
   "metadata": {},
   "outputs": [
    {
     "name": "stdout",
     "output_type": "stream",
     "text": [
      "Number of iterations:  45889\n"
     ]
    },
    {
     "data": {
      "text/plain": [
       "array([1., 1., 1., 1., 1., 1., 1., 1., 1., 1.])"
      ]
     },
     "execution_count": 16,
     "metadata": {},
     "output_type": "execute_result"
    }
   ],
   "source": [
    "# FUNCTION 2 - INPUT 5 \n",
    "\n",
    "steepest_descent(f2,nabla_f2,input_5,tol = 10**-10,max_iterations=100000)\n"
   ]
  },
  {
   "cell_type": "code",
   "execution_count": 17,
   "metadata": {},
   "outputs": [
    {
     "name": "stdout",
     "output_type": "stream",
     "text": [
      "Number of iterations:  45331\n"
     ]
    },
    {
     "data": {
      "text/plain": [
       "array([1., 1., 1., 1., 1., 1., 1., 1., 1., 1.])"
      ]
     },
     "execution_count": 17,
     "metadata": {},
     "output_type": "execute_result"
    }
   ],
   "source": [
    "# FUNCTION 2 - INPUT 6\n",
    "\n",
    "steepest_descent(f2,nabla_f2,input_6,tol = 10**-10,max_iterations=100000)\n"
   ]
  },
  {
   "cell_type": "markdown",
   "metadata": {},
   "source": [
    "#### 3)"
   ]
  },
  {
   "cell_type": "code",
   "execution_count": 66,
   "metadata": {},
   "outputs": [
    {
     "name": "stdout",
     "output_type": "stream",
     "text": [
      "input 7:  [0.55127814 0.23860875]\n",
      "input 8:  [0.93429044 0.85863826]\n",
      "input 9:  [0.08702263 0.92536015]\n",
      "input 10:  [0.87693121 0.86274073]\n",
      "input 11:  [0.08245992 0.78295466]\n"
     ]
    }
   ],
   "source": [
    "# INPUT 7,8,9\n",
    "\n",
    "input_7 = np.random.uniform(size = 2)\t\n",
    "print(\"input 7: \", input_7)\n",
    "input_8 = np.random.uniform(size = 2)\n",
    "print(\"input 8: \", input_8)\n",
    "input_9 = np.random.uniform(size = 2)\n",
    "print(\"input 9: \", input_9)\n",
    "input_10 = np.random.uniform(size =2)\n",
    "print(\"input 10: \", input_10)\n",
    "input_11 = np.random.uniform(size =2)\n",
    "print(\"input 11: \", input_11)"
   ]
  },
  {
   "cell_type": "code",
   "execution_count": 68,
   "metadata": {},
   "outputs": [
    {
     "name": "stdout",
     "output_type": "stream",
     "text": [
      "Number of iterations:  10000\n"
     ]
    },
    {
     "data": {
      "text/plain": [
       "array([3. , 0.5])"
      ]
     },
     "execution_count": 68,
     "metadata": {},
     "output_type": "execute_result"
    }
   ],
   "source": [
    "# FUNCTION 3 - INPUT 7 \n",
    "\n",
    "steepest_descent(f3,nabla_f3,input_7,tol = 10**-10,max_iterations=10000)"
   ]
  },
  {
   "cell_type": "code",
   "execution_count": 78,
   "metadata": {},
   "outputs": [
    {
     "name": "stdout",
     "output_type": "stream",
     "text": [
      "Number of iterations:  1659\n"
     ]
    },
    {
     "data": {
      "text/plain": [
       "array([2.99999997, 0.49999999])"
      ]
     },
     "execution_count": 78,
     "metadata": {},
     "output_type": "execute_result"
    }
   ],
   "source": [
    "# FUNCTION 3 - INPUT 8\n",
    "\n",
    "steepest_descent(f3,nabla_f3,input_8)"
   ]
  },
  {
   "cell_type": "code",
   "execution_count": 79,
   "metadata": {},
   "outputs": [
    {
     "name": "stdout",
     "output_type": "stream",
     "text": [
      "Number of iterations:  1629\n"
     ]
    },
    {
     "data": {
      "text/plain": [
       "array([2.99999997, 0.49999999])"
      ]
     },
     "execution_count": 79,
     "metadata": {},
     "output_type": "execute_result"
    }
   ],
   "source": [
    "# FUNCTION 3 - INPUT 9\n",
    "\n",
    "steepest_descent(f3,nabla_f3,input_9)"
   ]
  },
  {
   "cell_type": "code",
   "execution_count": 21,
   "metadata": {},
   "outputs": [],
   "source": [
    "#nabla_f3(x3_star)"
   ]
  },
  {
   "cell_type": "markdown",
   "metadata": {},
   "source": [
    "## Newton's Method"
   ]
  },
  {
   "cell_type": "markdown",
   "metadata": {},
   "source": [
    "### Functions"
   ]
  },
  {
   "cell_type": "code",
   "execution_count": 89,
   "metadata": {},
   "outputs": [],
   "source": [
    "def backtrackingStrongWolfe(c1,c2, p, s, x, d, f, nabla_f):\n",
    "    \"\"\" \n",
    "    Uses strong wolfe condition\n",
    "    \"\"\"\n",
    "\n",
    "    fx = f(x)\n",
    "    nabla_fx = nabla_f(x)\n",
    "    while f(x + s*d) > fx + c1 * s * np.dot(nabla_fx,d) and np.abs(np.dot(nabla_f(x+s*d),d)) > c2* np.abs(np.dot(nabla_fx,d)):\n",
    "        s = p * s\n",
    "    return s\n",
    "\n",
    "def newtons_method(f,nabla_f, Hessian_f, x0, tol = 10**-8,max_iterations=5000):\n",
    "    \"\"\" \n",
    "    input: f, nabla_f, x0 (horizontal array)\n",
    "    optional input: step size sBar (default =1), \n",
    "    returns: 1 dim array for x*\n",
    "    \"\"\"\n",
    "    \n",
    "    x = x0\n",
    "    k=0\n",
    "    convergence_array = []\n",
    "\n",
    "    while k < max_iterations: #and np.linalg.norm(nabla_f(x))>tol:\n",
    "\n",
    "        convergence_array.append( round(np.linalg.norm(nabla_f(x))) )\n",
    "        d = - np.linalg.inv(Hessian_f(x)) @ nabla_f(x)\n",
    "        x=x + d.T        \n",
    "        k+=1\n",
    "        \n",
    "    print(\"Number of iterations: \",k)\n",
    "    save_results(convergence_array)\n",
    "    return x\n",
    "\n",
    "def Modified_Newtons_Method(f,nabla_f, Hessian_f, x0, tol = 10**-8,max_iterations=20000,s=1,c=0.1,p=0.5):\n",
    "    \"\"\" \n",
    "    input: f, nabla_f, x0 (horizontal array)\n",
    "    optional input: step size sBar (default =1), \n",
    "    returns: 1 dim array for x*\n",
    "    \"\"\"\n",
    "\n",
    "    x = x0\n",
    "    k=0\n",
    "    while k < max_iterations and np.linalg.norm(nabla_f(x))>tol:\n",
    "        \n",
    "        d = - np.matmul(np.linalg.inv(Hessian_f(x)),nabla_f(x))\n",
    "        s = backtracking(c, p, s, x, d, f, nabla_f)\n",
    "        # print(s)\n",
    "        x=x + s*d\n",
    "        k+=1\n",
    "    print(\"Number of iterations: \",k)\n",
    "    return x"
   ]
  },
  {
   "cell_type": "markdown",
   "metadata": {},
   "source": [
    "### Implementation"
   ]
  },
  {
   "cell_type": "markdown",
   "metadata": {},
   "source": [
    "#### 1)"
   ]
  },
  {
   "cell_type": "code",
   "execution_count": 85,
   "metadata": {},
   "outputs": [
    {
     "name": "stdout",
     "output_type": "stream",
     "text": [
      "Number of iterations:  10000\n"
     ]
    },
    {
     "data": {
      "text/plain": [
       "array([0., 0., 0., 0., 0., 0., 0., 0., 0., 0., 0., 0., 0., 0., 0., 0., 0.,\n",
       "       0., 0., 0., 0., 0., 0., 0., 0., 0., 0., 0., 0., 0., 0., 0., 0., 0.,\n",
       "       0., 0., 0., 0., 0., 0., 0., 0., 0., 0., 0., 0., 0., 0., 0., 0.])"
      ]
     },
     "execution_count": 85,
     "metadata": {},
     "output_type": "execute_result"
    }
   ],
   "source": [
    "# FUNCTION 1 - METHOD 2 - INPUT 1 \n",
    "\n",
    "newtons_method(f1,nabla_f1,Hessian_f1,input_1)"
   ]
  },
  {
   "cell_type": "code",
   "execution_count": 63,
   "metadata": {},
   "outputs": [
    {
     "name": "stdout",
     "output_type": "stream",
     "text": [
      "Number of iterations:  1\n"
     ]
    },
    {
     "data": {
      "text/plain": [
       "array([ 0.,  0.,  0.,  0., -0.,  0.,  0.,  0.,  0.,  0.,  0.,  0., -0.,\n",
       "        0.,  0.,  0.,  0.,  0.,  0.,  0.,  0.,  0.,  0.,  0.,  0.,  0.,\n",
       "        0.,  0.,  0.,  0.,  0.,  0.,  0.,  0.,  0.,  0., -0.,  0.,  0.,\n",
       "        0.,  0.,  0.,  0.,  0., -0.,  0.,  0.,  0.,  0.,  0.])"
      ]
     },
     "execution_count": 63,
     "metadata": {},
     "output_type": "execute_result"
    }
   ],
   "source": [
    "newtons_method(f1,nabla_f1,Hessian_f1,input_2)"
   ]
  },
  {
   "cell_type": "code",
   "execution_count": 64,
   "metadata": {},
   "outputs": [
    {
     "name": "stdout",
     "output_type": "stream",
     "text": [
      "Number of iterations:  1\n"
     ]
    },
    {
     "data": {
      "text/plain": [
       "array([ 0.,  0.,  0.,  0.,  0.,  0.,  0.,  0.,  0.,  0.,  0.,  0.,  0.,\n",
       "        0.,  0.,  0.,  0.,  0.,  0.,  0.,  0.,  0.,  0.,  0.,  0.,  0.,\n",
       "        0.,  0.,  0.,  0.,  0.,  0.,  0.,  0.,  0.,  0.,  0.,  0.,  0.,\n",
       "       -0.,  0.,  0.,  0.,  0., -0.,  0.,  0.,  0.,  0.,  0.])"
      ]
     },
     "execution_count": 64,
     "metadata": {},
     "output_type": "execute_result"
    }
   ],
   "source": [
    "newtons_method(f1,nabla_f1,Hessian_f1,input_3)"
   ]
  },
  {
   "cell_type": "markdown",
   "metadata": {},
   "source": [
    "#### 2)"
   ]
  },
  {
   "cell_type": "code",
   "execution_count": 77,
   "metadata": {},
   "outputs": [
    {
     "name": "stdout",
     "output_type": "stream",
     "text": [
      "Number of iterations:  10000\n"
     ]
    },
    {
     "data": {
      "text/plain": [
       "array([1., 1., 1., 1., 1., 1., 1., 1., 1., 1.])"
      ]
     },
     "execution_count": 77,
     "metadata": {},
     "output_type": "execute_result"
    }
   ],
   "source": [
    "# FUNCTION 2 - METHOD \n",
    "newtons_method(f2,nabla_f2,Hessian_f2,input_4)"
   ]
  },
  {
   "cell_type": "code",
   "execution_count": 71,
   "metadata": {},
   "outputs": [
    {
     "name": "stdout",
     "output_type": "stream",
     "text": [
      "Number of iterations:  32\n"
     ]
    },
    {
     "data": {
      "text/plain": [
       "array([1., 1., 1., 1., 1., 1., 1., 1., 1., 1.])"
      ]
     },
     "execution_count": 71,
     "metadata": {},
     "output_type": "execute_result"
    }
   ],
   "source": [
    "# FUNCTION 2 - METHOD \n",
    "newtons_method(f2,nabla_f2,Hessian_f2,input_5)"
   ]
  },
  {
   "cell_type": "code",
   "execution_count": 72,
   "metadata": {},
   "outputs": [
    {
     "name": "stdout",
     "output_type": "stream",
     "text": [
      "Number of iterations:  54\n"
     ]
    },
    {
     "data": {
      "text/plain": [
       "array([1.        , 1.        , 1.        , 1.        , 1.        ,\n",
       "       1.        , 1.        , 1.        , 1.        , 0.99999999])"
      ]
     },
     "execution_count": 72,
     "metadata": {},
     "output_type": "execute_result"
    }
   ],
   "source": [
    "# FUNCTION 2 - METHOD \n",
    "newtons_method(f2,nabla_f2,Hessian_f2,input_6)"
   ]
  },
  {
   "cell_type": "markdown",
   "metadata": {},
   "source": [
    "### 3.)"
   ]
  },
  {
   "cell_type": "code",
   "execution_count": 79,
   "metadata": {},
   "outputs": [
    {
     "name": "stdout",
     "output_type": "stream",
     "text": [
      "Number of iterations:  10000\n"
     ]
    },
    {
     "data": {
      "text/plain": [
       "array([ 0.10053794, -2.64451359])"
      ]
     },
     "execution_count": 79,
     "metadata": {},
     "output_type": "execute_result"
    }
   ],
   "source": [
    "# FUNCTION 3 - METHOD 2 - INPUT 7 \n",
    "newtons_method(f3,nabla_f3,Hessian_f3,input_7)\n",
    "#Modified_Newtons_Method(f3,nabla_f3,Hessian_f3,input_7)"
   ]
  },
  {
   "cell_type": "code",
   "execution_count": 85,
   "metadata": {},
   "outputs": [
    {
     "name": "stdout",
     "output_type": "stream",
     "text": [
      "Number of iterations:  20000\n"
     ]
    },
    {
     "data": {
      "text/plain": [
       "array([0.66782788, 0.43229549])"
      ]
     },
     "execution_count": 85,
     "metadata": {},
     "output_type": "execute_result"
    }
   ],
   "source": [
    "# FUNCTION 3 - METHOD 2 - INPUT 8 \n",
    "\n",
    "Modified_Newtons_Method(f3,nabla_f3,Hessian_f3,input_8)"
   ]
  },
  {
   "cell_type": "code",
   "execution_count": 86,
   "metadata": {},
   "outputs": [
    {
     "name": "stdout",
     "output_type": "stream",
     "text": [
      "Number of iterations:  20000\n"
     ]
    },
    {
     "data": {
      "text/plain": [
       "array([0.31243911, 0.62779132])"
      ]
     },
     "execution_count": 86,
     "metadata": {},
     "output_type": "execute_result"
    }
   ],
   "source": [
    "# FUNCTION 3 - METHOD 2 - INPUT 9 \n",
    "\n",
    "Modified_Newtons_Method(f3,nabla_f3,Hessian_f3,input_9)"
   ]
  },
  {
   "cell_type": "code",
   "execution_count": 30,
   "metadata": {},
   "outputs": [],
   "source": [
    "#nabla_f3(x3_star_newtons)"
   ]
  },
  {
   "cell_type": "code",
   "execution_count": 31,
   "metadata": {},
   "outputs": [],
   "source": [
    "#x3_star_mod_newtons = Modified_Newtons_Method(f3,nabla_f3,Hessian_f3,x3_0)\n"
   ]
  },
  {
   "cell_type": "markdown",
   "metadata": {},
   "source": [
    "## Conjugate Gradient Method\n"
   ]
  },
  {
   "cell_type": "markdown",
   "metadata": {},
   "source": [
    "### Functions"
   ]
  },
  {
   "cell_type": "code",
   "execution_count": 86,
   "metadata": {},
   "outputs": [],
   "source": [
    "def backtrackingColumnVector(c, p, s, x, d, f, nabla_f):\n",
    "    fx = f(x)\n",
    "    nabla_fx = nabla_f(x)\n",
    "    while f(x + s*d) > fx + c * s * nabla_fx.T*d:\n",
    "        s = p * s\n",
    "    return s\n",
    "\n",
    "def Conjugate_Gradient_Non_Linear(f, nabla_f,x0, tol = 10**-5,maxIterations = 10000, TF_instead_of_PR = False, s=1,c=0.1,p=0.5):\n",
    "    \"\"\"\n",
    "    f and nabla_f are functions\n",
    "    Default method is Polak-Ribiere, if wishing to use Fletcher-Reeves instead, set TF_instead_of_PR to True\n",
    "    x0 is a 1dim array\n",
    "    returns x*\n",
    "    \"\"\"\n",
    "\n",
    "    x = np.matrix(x0).T\n",
    "    k = 0\n",
    "    gk = nabla_f(x)\n",
    "    if np.linalg.norm(gk) < tol:\n",
    "        return x\n",
    "    dk = -gk\n",
    "    gk_1 = gk\n",
    "    array = []\n",
    "    while k < maxIterations: #and np.linalg.norm(gk) > tol:\n",
    "        array.append(round(np.linalg.norm(gk)))\n",
    "        s = backtrackingColumnVector(c, p, s, x, dk, f , nabla_f)\n",
    "        # print(s)\n",
    "        x0 = x\n",
    "        x = x + s*dk\n",
    "        gk = gk_1\n",
    "        gk_1 = nabla_f(x)\n",
    "        if np.linalg.norm(x-x0) == 0:\n",
    "            print(\"Iterations: \"+str(k))\n",
    "            return x\n",
    "        beta = (gk_1.T*(gk_1 - gk)/ (gk.T *gk))[0,0] if not TF_instead_of_PR else ((gk_1.T * gk )/ (gk.T*gk))[0,0]\n",
    "        dk = -gk_1 + beta*dk\n",
    "        k+=1\n",
    "\n",
    "    save_results(array)\n",
    "    print(\"Iterations: \"+ str(k))\n",
    "\n",
    "    return x"
   ]
  },
  {
   "cell_type": "markdown",
   "metadata": {},
   "source": [
    "### Implementation"
   ]
  },
  {
   "cell_type": "markdown",
   "metadata": {},
   "source": [
    "#### 1)"
   ]
  },
  {
   "cell_type": "code",
   "execution_count": 88,
   "metadata": {},
   "outputs": [
    {
     "name": "stdout",
     "output_type": "stream",
     "text": [
      "Iterations: 10000\n"
     ]
    },
    {
     "data": {
      "text/plain": [
       "matrix([[ 0.,  0.,  0.,  0.,  0.,  0.,  0.,  0.,  0.,  0.,  0.,  0.,  0.,\n",
       "          0.,  0.,  0.,  0.,  0.,  0.,  0.,  0.,  0.,  0.,  0.,  0.,  0.,\n",
       "          0.,  0.,  0.,  0.,  0.,  0.,  0.,  0.,  0.,  0.,  0.,  0.,  0.,\n",
       "          0.,  0.,  0.,  0.,  0.,  0.,  0., -0., -0., -0., -0.]])"
      ]
     },
     "execution_count": 88,
     "metadata": {},
     "output_type": "execute_result"
    }
   ],
   "source": [
    "Conjugate_Gradient_Non_Linear(f1,ColumnVector_nabla_f1,input_1, maxIterations=10000).T"
   ]
  },
  {
   "cell_type": "code",
   "execution_count": 87,
   "metadata": {},
   "outputs": [
    {
     "name": "stdout",
     "output_type": "stream",
     "text": [
      "Iterations: 389\n"
     ]
    },
    {
     "data": {
      "text/plain": [
       "matrix([[ 0.00000472,  0.        ,  0.        ,  0.        ,  0.        ,\n",
       "          0.        ,  0.        ,  0.        ,  0.        ,  0.        ,\n",
       "          0.        ,  0.        ,  0.        , -0.        , -0.        ,\n",
       "         -0.        , -0.        , -0.        , -0.        ,  0.        ,\n",
       "          0.        ,  0.        ,  0.        ,  0.        ,  0.        ,\n",
       "          0.        ,  0.        ,  0.        ,  0.        ,  0.        ,\n",
       "          0.        , -0.        ,  0.        ,  0.        ,  0.        ,\n",
       "          0.        ,  0.        ,  0.        ,  0.        ,  0.        ,\n",
       "          0.        ,  0.        ,  0.        ,  0.        ,  0.        ,\n",
       "          0.        , -0.        , -0.        , -0.        , -0.        ]])"
      ]
     },
     "execution_count": 87,
     "metadata": {},
     "output_type": "execute_result"
    }
   ],
   "source": [
    "Conjugate_Gradient_Non_Linear(f1,ColumnVector_nabla_f1,input_2).T"
   ]
  },
  {
   "cell_type": "code",
   "execution_count": 34,
   "metadata": {},
   "outputs": [
    {
     "name": "stdout",
     "output_type": "stream",
     "text": [
      "Iterations: 393\n"
     ]
    },
    {
     "data": {
      "text/plain": [
       "matrix([[ 0.00000479,  0.        ,  0.        ,  0.        ,  0.        ,\n",
       "          0.        ,  0.        ,  0.        ,  0.        ,  0.        ,\n",
       "          0.        ,  0.        ,  0.        ,  0.        ,  0.        ,\n",
       "          0.        ,  0.        ,  0.        , -0.        , -0.        ,\n",
       "         -0.        , -0.        , -0.        , -0.        , -0.        ,\n",
       "         -0.        , -0.        , -0.        , -0.        , -0.        ,\n",
       "         -0.        , -0.        , -0.        , -0.        , -0.        ,\n",
       "         -0.        , -0.        , -0.        , -0.        , -0.        ,\n",
       "         -0.        , -0.        , -0.        , -0.        ,  0.        ,\n",
       "          0.        ,  0.        ,  0.        ,  0.        ,  0.        ]])"
      ]
     },
     "execution_count": 34,
     "metadata": {},
     "output_type": "execute_result"
    }
   ],
   "source": [
    "Conjugate_Gradient_Non_Linear(f1,ColumnVector_nabla_f1,input_3).T"
   ]
  },
  {
   "cell_type": "markdown",
   "metadata": {},
   "source": [
    "#### 2)"
   ]
  },
  {
   "cell_type": "code",
   "execution_count": 35,
   "metadata": {},
   "outputs": [
    {
     "name": "stdout",
     "output_type": "stream",
     "text": [
      "Iterations: 3584\n"
     ]
    },
    {
     "data": {
      "text/plain": [
       "matrix([[0.99999997, 0.99999995, 0.9999999 , 0.99999979, 0.99999958,\n",
       "         0.99999915, 0.99999829, 0.99999657, 0.99999312, 0.99998621]])"
      ]
     },
     "execution_count": 35,
     "metadata": {},
     "output_type": "execute_result"
    }
   ],
   "source": [
    "# FUNCTION 2 - METHOD 3 - INPUT 4 \n",
    "\n",
    "Conjugate_Gradient_Non_Linear(f2,ColumnVector_nabla_f2,input_4).T"
   ]
  },
  {
   "cell_type": "code",
   "execution_count": 89,
   "metadata": {},
   "outputs": [
    {
     "name": "stdout",
     "output_type": "stream",
     "text": [
      "Iterations: 10000\n"
     ]
    },
    {
     "data": {
      "text/plain": [
       "matrix([[0.99998345, 0.99996684, 0.99993353, 0.99986673, 0.99973282,\n",
       "         0.99946438, 0.99892639, 0.99784856, 0.995691  , 0.99137896]])"
      ]
     },
     "execution_count": 89,
     "metadata": {},
     "output_type": "execute_result"
    }
   ],
   "source": [
    "Conjugate_Gradient_Non_Linear(f2,ColumnVector_nabla_f2,input_5_1).T"
   ]
  },
  {
   "cell_type": "code",
   "execution_count": 37,
   "metadata": {},
   "outputs": [
    {
     "name": "stdout",
     "output_type": "stream",
     "text": [
      "Iterations: 3614\n"
     ]
    },
    {
     "data": {
      "text/plain": [
       "matrix([[0.99999997, 0.99999995, 0.99999989, 0.99999979, 0.99999957,\n",
       "         0.99999915, 0.99999829, 0.99999657, 0.99999311, 0.99998619]])"
      ]
     },
     "execution_count": 37,
     "metadata": {},
     "output_type": "execute_result"
    }
   ],
   "source": [
    "Conjugate_Gradient_Non_Linear(f2,ColumnVector_nabla_f2,input_6).T"
   ]
  },
  {
   "cell_type": "markdown",
   "metadata": {},
   "source": [
    "#### 3)"
   ]
  },
  {
   "cell_type": "code",
   "execution_count": 38,
   "metadata": {},
   "outputs": [
    {
     "name": "stdout",
     "output_type": "stream",
     "text": [
      "Iterations: 2\n"
     ]
    },
    {
     "data": {
      "text/plain": [
       "matrix([[4.32690897],\n",
       "        [0.75495937]])"
      ]
     },
     "execution_count": 38,
     "metadata": {},
     "output_type": "execute_result"
    }
   ],
   "source": [
    "# FUNCTION 3 - METHOD 3 - INPUT 7\n",
    "\n",
    "Conjugate_Gradient_Non_Linear(f3,ColumnVector_nabla_f3,input_7)\n"
   ]
  },
  {
   "cell_type": "code",
   "execution_count": 39,
   "metadata": {},
   "outputs": [
    {
     "name": "stdout",
     "output_type": "stream",
     "text": [
      "Iterations: 3\n"
     ]
    },
    {
     "data": {
      "text/plain": [
       "matrix([[5.14269234],\n",
       "        [0.77572598]])"
      ]
     },
     "execution_count": 39,
     "metadata": {},
     "output_type": "execute_result"
    }
   ],
   "source": [
    "# FUNCTION 3 - METHOD 3 - INPUT 8 \n",
    "\n",
    "Conjugate_Gradient_Non_Linear(f3,ColumnVector_nabla_f3,input_8)\n"
   ]
  },
  {
   "cell_type": "code",
   "execution_count": 40,
   "metadata": {},
   "outputs": [
    {
     "name": "stdout",
     "output_type": "stream",
     "text": [
      "Iterations: 908\n"
     ]
    },
    {
     "data": {
      "text/plain": [
       "matrix([[2.99996819],\n",
       "        [0.49999206]])"
      ]
     },
     "execution_count": 40,
     "metadata": {},
     "output_type": "execute_result"
    }
   ],
   "source": [
    "# FUNCTION 3 - METHOD 3 - INPUT 9 \n",
    "\n",
    "Conjugate_Gradient_Non_Linear(f3,ColumnVector_nabla_f3,input_9)\n"
   ]
  },
  {
   "cell_type": "code",
   "execution_count": 41,
   "metadata": {},
   "outputs": [
    {
     "name": "stdout",
     "output_type": "stream",
     "text": [
      "Iterations: 263\n"
     ]
    },
    {
     "data": {
      "text/plain": [
       "matrix([[2.9999746 ],\n",
       "        [0.49999377]])"
      ]
     },
     "execution_count": 41,
     "metadata": {},
     "output_type": "execute_result"
    }
   ],
   "source": [
    "Conjugate_Gradient_Non_Linear(f3,ColumnVector_nabla_f3,input_10)"
   ]
  },
  {
   "cell_type": "code",
   "execution_count": 42,
   "metadata": {},
   "outputs": [
    {
     "name": "stdout",
     "output_type": "stream",
     "text": [
      "Iterations: 1003\n"
     ]
    },
    {
     "data": {
      "text/plain": [
       "matrix([[2.99996838],\n",
       "        [0.49999211]])"
      ]
     },
     "execution_count": 42,
     "metadata": {},
     "output_type": "execute_result"
    }
   ],
   "source": [
    "Conjugate_Gradient_Non_Linear(f3,ColumnVector_nabla_f3,input_11)"
   ]
  },
  {
   "cell_type": "markdown",
   "metadata": {},
   "source": [
    "## Quasi Newton Method"
   ]
  },
  {
   "cell_type": "markdown",
   "metadata": {},
   "source": [
    "### Functions"
   ]
  },
  {
   "cell_type": "code",
   "execution_count": 43,
   "metadata": {},
   "outputs": [],
   "source": [
    "def rank_two(Hk, gk, gk_1, xk, xk_1, ck=1):\n",
    "    delta_k = xk_1 - xk\n",
    "    gamma_k = gk_1-gk\n",
    "\n",
    "    qk = delta_k / (delta_k.T @ gamma_k).item() - Hk @ gamma_k / (gamma_k.T @ Hk @ gamma_k).item()\n",
    "    \n",
    "    term1 = delta_k@delta_k.T /(delta_k.T @ gamma_k).item()\n",
    "\n",
    "    term2 = Hk@gamma_k @(Hk@gamma_k).T/ (gamma_k.T @ Hk @ gamma_k).item()\n",
    "\n",
    "    term3 = ck * (gamma_k.T@Hk@gamma_k).item() * qk@qk.T\n",
    "    \n",
    "    return Hk + term1 -  term2 + term3\n",
    "\n",
    "\n",
    "def quasi_newton(f, nabla_f,x0, tol = 10**-5,max_iterations = 10000,p = 0.5,s = 1,c = 0.1):\n",
    "    xk = np.matrix(x0).T\n",
    "    Hk = np.eye(len(x0))\n",
    "\n",
    "    xk_1 = xk\n",
    "    gk_1 = np.matrix(nabla_f(xk_1))\n",
    "    k=0\n",
    "    array = []\n",
    "\n",
    "    while k < max_iterations: #(np.linalg.norm(xk_1-xk) > tol or k==0) and \n",
    "        \n",
    "        array.append( round(np.linalg.norm(xk_1-xk)) )\n",
    "        xk= xk_1\n",
    "        gk = gk_1\n",
    "        dk = -(Hk@gk)\n",
    "        sk = backtrackingColumnVector(c, p, s, xk, dk, f, nabla_f)\n",
    "        \n",
    "        xk_1 = xk + sk * dk\n",
    "        gk_1 = np.matrix(nabla_f(xk_1))\n",
    "        Hk = rank_two(Hk, gk, gk_1, xk, xk_1) \n",
    "        k+=1\n",
    "\n",
    "    print(\"Number of iterations: \" + str(k))\n",
    "    return xk"
   ]
  },
  {
   "cell_type": "markdown",
   "metadata": {},
   "source": [
    "### Implementation"
   ]
  },
  {
   "cell_type": "markdown",
   "metadata": {},
   "source": [
    "#### 1)"
   ]
  },
  {
   "cell_type": "code",
   "execution_count": 44,
   "metadata": {},
   "outputs": [
    {
     "name": "stdout",
     "output_type": "stream",
     "text": [
      "Number of iterations: 61\n"
     ]
    },
    {
     "data": {
      "text/plain": [
       "matrix([[ 0.00000312,  0.00000003,  0.00000007,  0.00000023, -0.00000003,\n",
       "          0.00000007,  0.00000012, -0.00000015,  0.00000007,  0.00000029,\n",
       "          0.00000005,  0.00000015,  0.00000001,  0.00000038,  0.00000009,\n",
       "          0.00000004,  0.00000018, -0.00000005,  0.00000018, -0.00000015,\n",
       "          0.00000023,  0.0000001 ,  0.00000008,  0.0000003 , -0.00000011,\n",
       "          0.00000023, -0.00000032,  0.00000003,  0.00000011, -0.00000027,\n",
       "          0.00000011,  0.00000006,  0.        ,  0.00000005,  0.00000005,\n",
       "          0.00000011,  0.00000005,  0.00000002,  0.00000002,  0.00000005,\n",
       "         -0.        ,  0.00000001, -0.        , -0.00000003, -0.00000003,\n",
       "          0.00000007,  0.00000005,  0.00000001, -0.00000001, -0.00000005]])"
      ]
     },
     "execution_count": 44,
     "metadata": {},
     "output_type": "execute_result"
    }
   ],
   "source": [
    "quasi_newton(f1,ColumnVector_nabla_f1,input_1).T"
   ]
  },
  {
   "cell_type": "code",
   "execution_count": 45,
   "metadata": {},
   "outputs": [
    {
     "name": "stdout",
     "output_type": "stream",
     "text": [
      "Number of iterations: 59\n"
     ]
    },
    {
     "data": {
      "text/plain": [
       "matrix([[ 0.00000022, -0.00000005,  0.00000002, -0.00000003,  0.00000001,\n",
       "          0.00000001, -0.00000002,  0.00000007,  0.00000002,  0.00000002,\n",
       "          0.00000001, -0.00000004, -0.00000012, -0.00000014,  0.00000047,\n",
       "         -0.00000001, -0.00000003, -0.00000005,  0.00000011, -0.00000013,\n",
       "          0.00000008, -0.00000009,  0.00000003, -0.00000011,  0.00000005,\n",
       "         -0.        , -0.00000004, -0.00000003,  0.00000009, -0.00000008,\n",
       "          0.00000011, -0.00000002, -0.00000003, -0.00000002, -0.00000002,\n",
       "          0.00000002, -0.00000001, -0.00000003,  0.00000002, -0.00000001,\n",
       "         -0.00000004,  0.00000002,  0.00000004, -0.00000001, -0.00000002,\n",
       "          0.00000002, -0.00000003, -0.00000001, -0.00000002,  0.00000002]])"
      ]
     },
     "execution_count": 45,
     "metadata": {},
     "output_type": "execute_result"
    }
   ],
   "source": [
    "quasi_newton(f1,ColumnVector_nabla_f1,input_2).T"
   ]
  },
  {
   "cell_type": "code",
   "execution_count": 46,
   "metadata": {},
   "outputs": [
    {
     "name": "stdout",
     "output_type": "stream",
     "text": [
      "Number of iterations: 60\n"
     ]
    },
    {
     "data": {
      "text/plain": [
       "matrix([[-0.00000336, -0.00000043,  0.00000014, -0.00000001, -0.00000037,\n",
       "          0.00000005, -0.00000002,  0.00000027, -0.00000004, -0.00000018,\n",
       "          0.00000022,  0.00000012,  0.00000003,  0.        ,  0.00000008,\n",
       "          0.00000008,  0.00000018, -0.00000011, -0.00000009,  0.00000015,\n",
       "         -0.00000001, -0.00000002,  0.0000003 ,  0.00000009,  0.00000001,\n",
       "          0.00000013,  0.00000009, -0.00000008,  0.0000002 ,  0.00000011,\n",
       "          0.00000004, -0.00000005, -0.00000004, -0.00000004, -0.0000003 ,\n",
       "         -0.00000014,  0.00000013,  0.00000001, -0.00000008,  0.00000019,\n",
       "          0.00000022,  0.00000001, -0.00000007,  0.00000007,  0.00000006,\n",
       "         -0.0000001 , -0.00000008, -0.00000016,  0.00000005, -0.00000002]])"
      ]
     },
     "execution_count": 46,
     "metadata": {},
     "output_type": "execute_result"
    }
   ],
   "source": [
    "quasi_newton(f1,ColumnVector_nabla_f1,input_3).T"
   ]
  },
  {
   "cell_type": "markdown",
   "metadata": {},
   "source": [
    "#### 2)"
   ]
  },
  {
   "cell_type": "code",
   "execution_count": 47,
   "metadata": {},
   "outputs": [
    {
     "name": "stdout",
     "output_type": "stream",
     "text": [
      "Number of iterations: 63\n"
     ]
    },
    {
     "data": {
      "text/plain": [
       "matrix([[1.00000012, 0.99999994, 1.00000003, 1.00000004, 0.99999978,\n",
       "         0.99999959, 0.99999941, 0.99999946, 0.99999912, 0.99999824]])"
      ]
     },
     "execution_count": 47,
     "metadata": {},
     "output_type": "execute_result"
    }
   ],
   "source": [
    "quasi_newton(f2,ColumnVector_nabla_f2,input_4).T\n"
   ]
  },
  {
   "cell_type": "code",
   "execution_count": 48,
   "metadata": {},
   "outputs": [
    {
     "name": "stdout",
     "output_type": "stream",
     "text": [
      "Number of iterations: 60\n"
     ]
    },
    {
     "data": {
      "text/plain": [
       "matrix([[1.00000022, 1.        , 0.99999986, 1.00000006, 0.99999988,\n",
       "         1.00000005, 0.99999995, 0.99999986, 0.99999962, 0.99999902]])"
      ]
     },
     "execution_count": 48,
     "metadata": {},
     "output_type": "execute_result"
    }
   ],
   "source": [
    "quasi_newton(f2,ColumnVector_nabla_f2,input_5).T"
   ]
  },
  {
   "cell_type": "code",
   "execution_count": 49,
   "metadata": {},
   "outputs": [
    {
     "name": "stdout",
     "output_type": "stream",
     "text": [
      "Number of iterations: 65\n"
     ]
    },
    {
     "data": {
      "text/plain": [
       "matrix([[0.99999998, 0.99999997, 0.99999987, 1.00000001, 1.00000015,\n",
       "         1.00000019, 0.99999999, 0.99999995, 0.9999999 , 0.99999962]])"
      ]
     },
     "execution_count": 49,
     "metadata": {},
     "output_type": "execute_result"
    }
   ],
   "source": [
    "quasi_newton(f2,ColumnVector_nabla_f2,input_6).T\n"
   ]
  },
  {
   "cell_type": "markdown",
   "metadata": {},
   "source": [
    "#### 3)"
   ]
  },
  {
   "cell_type": "code",
   "execution_count": 50,
   "metadata": {},
   "outputs": [
    {
     "name": "stdout",
     "output_type": "stream",
     "text": [
      "Number of iterations: 17\n"
     ]
    },
    {
     "data": {
      "text/plain": [
       "matrix([[2.99999931, 0.49999995]])"
      ]
     },
     "execution_count": 50,
     "metadata": {},
     "output_type": "execute_result"
    }
   ],
   "source": [
    "quasi_newton(f3,ColumnVector_nabla_f3,input_7).T"
   ]
  },
  {
   "cell_type": "code",
   "execution_count": 51,
   "metadata": {},
   "outputs": [
    {
     "name": "stdout",
     "output_type": "stream",
     "text": [
      "Number of iterations: 16\n"
     ]
    },
    {
     "data": {
      "text/plain": [
       "matrix([[2.99999975, 0.49999993]])"
      ]
     },
     "execution_count": 51,
     "metadata": {},
     "output_type": "execute_result"
    }
   ],
   "source": [
    "quasi_newton(f3,ColumnVector_nabla_f3,input_8).T"
   ]
  },
  {
   "cell_type": "code",
   "execution_count": 52,
   "metadata": {},
   "outputs": [
    {
     "name": "stdout",
     "output_type": "stream",
     "text": [
      "Number of iterations: 13\n"
     ]
    },
    {
     "data": {
      "text/plain": [
       "matrix([[2.99999948, 0.49999986]])"
      ]
     },
     "execution_count": 52,
     "metadata": {},
     "output_type": "execute_result"
    }
   ],
   "source": [
    "quasi_newton(f3,ColumnVector_nabla_f3,input_9).T"
   ]
  },
  {
   "cell_type": "code",
   "execution_count": null,
   "metadata": {},
   "outputs": [],
   "source": []
  },
  {
   "cell_type": "markdown",
   "metadata": {},
   "source": [
    "### Functions"
   ]
  },
  {
   "cell_type": "code",
   "execution_count": 53,
   "metadata": {},
   "outputs": [],
   "source": [
    "def rank_two(Hk, gk, gk_1, xk, xk_1, ck=1):\n",
    "    delta_k = xk_1 - xk\n",
    "    gamma_k = gk_1-gk\n",
    "\n",
    "    qk = delta_k / (delta_k.T @ gamma_k).item() - Hk @ gamma_k / (gamma_k.T @ Hk @ gamma_k).item()\n",
    "    \n",
    "    term1 = delta_k@delta_k.T /(delta_k.T @ gamma_k).item()\n",
    "\n",
    "    term2 = Hk@gamma_k @(Hk@gamma_k).T/ (gamma_k.T @ Hk @ gamma_k).item()\n",
    "\n",
    "    term3 = ck * (gamma_k.T@Hk@gamma_k).item() * qk@qk.T\n",
    "    \n",
    "    return Hk + term1 -  term2 + term3\n",
    "\n",
    "\n",
    "def quasi_newton(f, nabla_f,x0, tol = 10**-5,max_iterations = 10000,p = 0.5,s = 1,c = 0.1):\n",
    "    xk = np.matrix(x0).T\n",
    "    Hk = np.eye(len(x0))\n",
    "\n",
    "    xk_1 = xk\n",
    "    gk_1 = np.matrix(nabla_f(xk_1))\n",
    "    k=0\n",
    "    while (np.linalg.norm(xk_1-xk) > tol or k==0) and k < max_iterations :\n",
    "        xk= xk_1\n",
    "        gk = gk_1\n",
    "        dk = -(Hk@gk)\n",
    "        sk = backtrackingColumnVector(c, p, s, xk, dk, f, nabla_f)\n",
    "        \n",
    "        xk_1 = xk + sk * dk\n",
    "        gk_1 = np.matrix(nabla_f(xk_1))\n",
    "        Hk = rank_two(Hk, gk, gk_1, xk, xk_1) \n",
    "        k+=1\n",
    "    print(\"Number of iterations: \" + str(k))\n",
    "    return xk"
   ]
  },
  {
   "cell_type": "markdown",
   "metadata": {},
   "source": [
    "### Implementation"
   ]
  },
  {
   "cell_type": "markdown",
   "metadata": {},
   "source": [
    "#### 1)"
   ]
  },
  {
   "cell_type": "code",
   "execution_count": 54,
   "metadata": {},
   "outputs": [
    {
     "name": "stdout",
     "output_type": "stream",
     "text": [
      "Number of iterations: 61\n"
     ]
    },
    {
     "data": {
      "text/plain": [
       "matrix([[ 0.00000312,  0.00000003,  0.00000007,  0.00000023, -0.00000003,\n",
       "          0.00000007,  0.00000012, -0.00000015,  0.00000007,  0.00000029,\n",
       "          0.00000005,  0.00000015,  0.00000001,  0.00000038,  0.00000009,\n",
       "          0.00000004,  0.00000018, -0.00000005,  0.00000018, -0.00000015,\n",
       "          0.00000023,  0.0000001 ,  0.00000008,  0.0000003 , -0.00000011,\n",
       "          0.00000023, -0.00000032,  0.00000003,  0.00000011, -0.00000027,\n",
       "          0.00000011,  0.00000006,  0.        ,  0.00000005,  0.00000005,\n",
       "          0.00000011,  0.00000005,  0.00000002,  0.00000002,  0.00000005,\n",
       "         -0.        ,  0.00000001, -0.        , -0.00000003, -0.00000003,\n",
       "          0.00000007,  0.00000005,  0.00000001, -0.00000001, -0.00000005]])"
      ]
     },
     "execution_count": 54,
     "metadata": {},
     "output_type": "execute_result"
    }
   ],
   "source": [
    "quasi_newton(f1,ColumnVector_nabla_f1,input_1).T"
   ]
  },
  {
   "cell_type": "code",
   "execution_count": 55,
   "metadata": {},
   "outputs": [
    {
     "name": "stdout",
     "output_type": "stream",
     "text": [
      "Number of iterations: 59\n"
     ]
    },
    {
     "data": {
      "text/plain": [
       "matrix([[ 0.00000022, -0.00000005,  0.00000002, -0.00000003,  0.00000001,\n",
       "          0.00000001, -0.00000002,  0.00000007,  0.00000002,  0.00000002,\n",
       "          0.00000001, -0.00000004, -0.00000012, -0.00000014,  0.00000047,\n",
       "         -0.00000001, -0.00000003, -0.00000005,  0.00000011, -0.00000013,\n",
       "          0.00000008, -0.00000009,  0.00000003, -0.00000011,  0.00000005,\n",
       "         -0.        , -0.00000004, -0.00000003,  0.00000009, -0.00000008,\n",
       "          0.00000011, -0.00000002, -0.00000003, -0.00000002, -0.00000002,\n",
       "          0.00000002, -0.00000001, -0.00000003,  0.00000002, -0.00000001,\n",
       "         -0.00000004,  0.00000002,  0.00000004, -0.00000001, -0.00000002,\n",
       "          0.00000002, -0.00000003, -0.00000001, -0.00000002,  0.00000002]])"
      ]
     },
     "execution_count": 55,
     "metadata": {},
     "output_type": "execute_result"
    }
   ],
   "source": [
    "quasi_newton(f1,ColumnVector_nabla_f1,input_2).T"
   ]
  },
  {
   "cell_type": "code",
   "execution_count": 56,
   "metadata": {},
   "outputs": [
    {
     "name": "stdout",
     "output_type": "stream",
     "text": [
      "Number of iterations: 60\n"
     ]
    },
    {
     "data": {
      "text/plain": [
       "matrix([[-0.00000336, -0.00000043,  0.00000014, -0.00000001, -0.00000037,\n",
       "          0.00000005, -0.00000002,  0.00000027, -0.00000004, -0.00000018,\n",
       "          0.00000022,  0.00000012,  0.00000003,  0.        ,  0.00000008,\n",
       "          0.00000008,  0.00000018, -0.00000011, -0.00000009,  0.00000015,\n",
       "         -0.00000001, -0.00000002,  0.0000003 ,  0.00000009,  0.00000001,\n",
       "          0.00000013,  0.00000009, -0.00000008,  0.0000002 ,  0.00000011,\n",
       "          0.00000004, -0.00000005, -0.00000004, -0.00000004, -0.0000003 ,\n",
       "         -0.00000014,  0.00000013,  0.00000001, -0.00000008,  0.00000019,\n",
       "          0.00000022,  0.00000001, -0.00000007,  0.00000007,  0.00000006,\n",
       "         -0.0000001 , -0.00000008, -0.00000016,  0.00000005, -0.00000002]])"
      ]
     },
     "execution_count": 56,
     "metadata": {},
     "output_type": "execute_result"
    }
   ],
   "source": [
    "quasi_newton(f1,ColumnVector_nabla_f1,input_3).T"
   ]
  },
  {
   "cell_type": "markdown",
   "metadata": {},
   "source": [
    "#### 2)"
   ]
  },
  {
   "cell_type": "code",
   "execution_count": 57,
   "metadata": {},
   "outputs": [
    {
     "name": "stdout",
     "output_type": "stream",
     "text": [
      "Number of iterations: 63\n"
     ]
    },
    {
     "data": {
      "text/plain": [
       "matrix([[1.00000012, 0.99999994, 1.00000003, 1.00000004, 0.99999978,\n",
       "         0.99999959, 0.99999941, 0.99999946, 0.99999912, 0.99999824]])"
      ]
     },
     "execution_count": 57,
     "metadata": {},
     "output_type": "execute_result"
    }
   ],
   "source": [
    "quasi_newton(f2,ColumnVector_nabla_f2,input_4).T\n"
   ]
  },
  {
   "cell_type": "code",
   "execution_count": 58,
   "metadata": {},
   "outputs": [
    {
     "name": "stdout",
     "output_type": "stream",
     "text": [
      "Number of iterations: 60\n"
     ]
    },
    {
     "data": {
      "text/plain": [
       "matrix([[1.00000022, 1.        , 0.99999986, 1.00000006, 0.99999988,\n",
       "         1.00000005, 0.99999995, 0.99999986, 0.99999962, 0.99999902]])"
      ]
     },
     "execution_count": 58,
     "metadata": {},
     "output_type": "execute_result"
    }
   ],
   "source": [
    "quasi_newton(f2,ColumnVector_nabla_f2,input_5).T"
   ]
  },
  {
   "cell_type": "code",
   "execution_count": 59,
   "metadata": {},
   "outputs": [
    {
     "name": "stdout",
     "output_type": "stream",
     "text": [
      "Number of iterations: 65\n"
     ]
    },
    {
     "data": {
      "text/plain": [
       "matrix([[0.99999998, 0.99999997, 0.99999987, 1.00000001, 1.00000015,\n",
       "         1.00000019, 0.99999999, 0.99999995, 0.9999999 , 0.99999962]])"
      ]
     },
     "execution_count": 59,
     "metadata": {},
     "output_type": "execute_result"
    }
   ],
   "source": [
    "quasi_newton(f2,ColumnVector_nabla_f2,input_6).T\n"
   ]
  },
  {
   "cell_type": "markdown",
   "metadata": {},
   "source": [
    "#### 3)"
   ]
  },
  {
   "cell_type": "code",
   "execution_count": 60,
   "metadata": {},
   "outputs": [
    {
     "name": "stdout",
     "output_type": "stream",
     "text": [
      "Number of iterations: 17\n"
     ]
    },
    {
     "data": {
      "text/plain": [
       "matrix([[2.99999931, 0.49999995]])"
      ]
     },
     "execution_count": 60,
     "metadata": {},
     "output_type": "execute_result"
    }
   ],
   "source": [
    "quasi_newton(f3,ColumnVector_nabla_f3,input_7).T"
   ]
  },
  {
   "cell_type": "code",
   "execution_count": 61,
   "metadata": {},
   "outputs": [
    {
     "name": "stdout",
     "output_type": "stream",
     "text": [
      "Number of iterations: 16\n"
     ]
    },
    {
     "data": {
      "text/plain": [
       "matrix([[2.99999975, 0.49999993]])"
      ]
     },
     "execution_count": 61,
     "metadata": {},
     "output_type": "execute_result"
    }
   ],
   "source": [
    "quasi_newton(f3,ColumnVector_nabla_f3,input_8).T"
   ]
  },
  {
   "cell_type": "code",
   "execution_count": 62,
   "metadata": {},
   "outputs": [
    {
     "name": "stdout",
     "output_type": "stream",
     "text": [
      "Number of iterations: 13\n"
     ]
    },
    {
     "data": {
      "text/plain": [
       "matrix([[2.99999948, 0.49999986]])"
      ]
     },
     "execution_count": 62,
     "metadata": {},
     "output_type": "execute_result"
    }
   ],
   "source": [
    "quasi_newton(f3,ColumnVector_nabla_f3,input_9).T"
   ]
  },
  {
   "cell_type": "code",
   "execution_count": null,
   "metadata": {},
   "outputs": [],
   "source": []
  },
  {
   "cell_type": "markdown",
   "metadata": {},
   "source": []
  }
 ],
 "metadata": {
  "interpreter": {
   "hash": "ac6b3b5e41e095d36a525c15cb45dcb90dd559e81bca168c83acd81292e04ccb"
  },
  "kernelspec": {
   "display_name": "Python 3.8.8 64-bit ('base': conda)",
   "name": "python3"
  },
  "language_info": {
   "codemirror_mode": {
    "name": "ipython",
    "version": 3
   },
   "file_extension": ".py",
   "mimetype": "text/x-python",
   "name": "python",
   "nbconvert_exporter": "python",
   "pygments_lexer": "ipython3",
   "version": "3.8.8"
  },
  "orig_nbformat": 4
 },
 "nbformat": 4,
 "nbformat_minor": 2
}
