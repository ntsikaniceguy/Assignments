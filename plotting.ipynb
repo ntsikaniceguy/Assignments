{
 "cells": [
  {
   "cell_type": "code",
   "execution_count": 2,
   "metadata": {},
   "outputs": [],
   "source": [
    "import numpy as np\n",
    "np.set_printoptions(suppress = True)"
   ]
  },
  {
   "cell_type": "code",
   "execution_count": 3,
   "metadata": {},
   "outputs": [],
   "source": [
    "def write_cols(data):\n",
    "    col_spacer = \"   \"      # added between columns\n",
    "    widths = [0] * len(data[0])\n",
    "\n",
    "    # Calculate the widest entry for each column\n",
    "    for row in data:\n",
    "        widths[:] = [max(widths[index], len(str(col))) for index, col in enumerate(row)]\n",
    "\n",
    "    return [col_spacer.join(\"{:<{width}}\".format(col, width=widths[index]) for index, col in enumerate(row)) for row in data]\n"
   ]
  },
  {
   "cell_type": "code",
   "execution_count": 6,
   "metadata": {},
   "outputs": [
    {
     "name": "stdout",
     "output_type": "stream",
     "text": [
      "            Steepest Descent                Newton's Method                Quasi-Newton Method                Conjugate Gradient Method             \n",
      "Functions   Iterations         Time taken   Iterations        Time Taken   Iterations            Time Taken   Iterations                  Time Taken\n",
      "f1(x)       590                0            0                 0            1                     0            123                         0         \n",
      "f2(x)       45165              0            230               0            28                    123          123                         0         \n",
      "f3(x)       1627               0            0                 0            1                     123          123                         0         \n"
     ]
    }
   ],
   "source": [
    "data = [['', 'Steepest Descent', '', 'Newton\\'s Method', '', 'Quasi-Newton Method', '', 'Conjugate Gradient Method', ''], \n",
    "[\"Functions\", \"Iterations\", \"Time taken\", \"Iterations\", \"Time Taken\", \"Iterations\", \"Time Taken\", \"Iterations\", \"Time Taken\"], \n",
    "[\"f1(x)\", \"573\", \"0\", \"0\", \"0\", \"1\", '0', \"123\", '0'],  \n",
    "[\"f2(x)\", \"45895\", \"0\", \"230\", \"0\", \"28\", '123', \"123\", '0'],\n",
    "[\"f3(x)\", \"1645\", \"0\", \"0\", \"0\", \"1\", '123', \"123\", '0']]\n",
    "\n",
    "\n",
    "for row in write_cols(data):\n",
    "    print(row)"
   ]
  },
  {
   "cell_type": "code",
   "execution_count": null,
   "metadata": {},
   "outputs": [],
   "source": []
  }
 ],
 "metadata": {
  "interpreter": {
   "hash": "16ef2973d5fe9cc0c2aa2a341d39a6c3dab5674ff9ff15e9dc1ce10579a7d055"
  },
  "kernelspec": {
   "display_name": "Python 3.9.7 64-bit (windows store)",
   "name": "python3"
  },
  "language_info": {
   "codemirror_mode": {
    "name": "ipython",
    "version": 3
   },
   "file_extension": ".py",
   "mimetype": "text/x-python",
   "name": "python",
   "nbconvert_exporter": "python",
   "pygments_lexer": "ipython3",
   "version": "3.9.7"
  },
  "orig_nbformat": 4
 },
 "nbformat": 4,
 "nbformat_minor": 2
}
